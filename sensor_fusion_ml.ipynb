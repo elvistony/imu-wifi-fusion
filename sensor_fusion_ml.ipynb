{
 "cells": [
  {
   "cell_type": "markdown",
   "metadata": {},
   "source": [
    "# IMU Fusion Algorithms\n",
    "Using Machine Learning"
   ]
  },
  {
   "cell_type": "code",
   "execution_count": 135,
   "metadata": {},
   "outputs": [],
   "source": [
    "import os"
   ]
  },
  {
   "cell_type": "code",
   "execution_count": 136,
   "metadata": {},
   "outputs": [],
   "source": [
    "path_to_dataset = 'datasets/'\n",
    "datasets = os.listdir(path_to_dataset)"
   ]
  },
  {
   "cell_type": "code",
   "execution_count": 137,
   "metadata": {},
   "outputs": [],
   "source": [
    "data_df_file = 'global_observations.csv'\n",
    "# data_df_file = 'datasets/Forbury_Road-2023-12-15_07-55-45/observations.csv'"
   ]
  },
  {
   "cell_type": "code",
   "execution_count": 138,
   "metadata": {},
   "outputs": [],
   "source": [
    "import numpy as np\n",
    "import pandas as pd\n",
    "import matplotlib.pyplot as plt"
   ]
  },
  {
   "cell_type": "code",
   "execution_count": 139,
   "metadata": {},
   "outputs": [],
   "source": [
    "def gpsgraph(df_gps):\n",
    "    longitude_gps = df_gps['longitude'].values\n",
    "    latitude_gps = df_gps['latitude'].values\n",
    "\n",
    "    latitude_gps = latitude_gps - latitude_gps[0]\n",
    "    longitude_gps = longitude_gps  - longitude_gps[0]\n",
    "\n",
    "    plt.figure()\n",
    "    plt.scatter(longitude_gps, latitude_gps, label='GPS Path', marker='o')\n",
    "    plt.xlabel('Longitude')\n",
    "    plt.ylabel('Latitude')\n",
    "    plt.title('GPS Path Visualization')\n",
    "    plt.legend()\n",
    "    plt.grid(True)\n",
    "    plt.show()\n"
   ]
  },
  {
   "cell_type": "markdown",
   "metadata": {},
   "source": [
    "Reading the dataset selected"
   ]
  },
  {
   "cell_type": "code",
   "execution_count": 140,
   "metadata": {},
   "outputs": [
    {
     "name": "stdout",
     "output_type": "stream",
     "text": [
      "0 2023-04-02_19-22-16\n",
      "1 2023-04-19_07-21-10\n",
      "2 2023-04-21_17-03-28\n",
      "3 2023-06-02_06-34-39\n",
      "4 2023-06-02_12-14-13\n",
      "5 2023-06-02_13-28-32\n",
      "6 2023-06-03_06-13-40\n",
      "7 2023-06-03_07-09-39\n",
      "8 2023-07-05_07-44-33\n",
      "9 2023-07-26_06-26-10\n",
      "10 Earley-2023-12-08_07-39-28\n",
      "11 Forbury_Road-2023-12-15_07-55-45\n",
      "12 Forbury_Road_(stop_EL)-2023-11-28_14-02-13\n",
      "13 Reading_College-2023-12-02_15-45-53\n",
      "14 Station_Road-2023-12-08_07-53-14\n",
      "15 Twyford_railway_station-2023-12-02_09-05-35\n"
     ]
    }
   ],
   "source": [
    "df = pd.read_csv(data_df_file,parse_dates=True)\n",
    "sources = df.source.unique()\n",
    "\n",
    "i = 0\n",
    "for file in sources:\n",
    "    print(i,file)\n",
    "    i+=1"
   ]
  },
  {
   "cell_type": "code",
   "execution_count": 141,
   "metadata": {},
   "outputs": [
    {
     "data": {
      "text/plain": [
       "array(['Forbury_Road_(stop_EL)-2023-11-28_14-02-13',\n",
       "       'Reading_College-2023-12-02_15-45-53',\n",
       "       'Station_Road-2023-12-08_07-53-14'], dtype=object)"
      ]
     },
     "execution_count": 141,
     "metadata": {},
     "output_type": "execute_result"
    }
   ],
   "source": [
    "_start = 12\n",
    "_end = 14\n",
    "_source = sources[_start:_end+1]\n",
    "_source"
   ]
  },
  {
   "cell_type": "code",
   "execution_count": 142,
   "metadata": {},
   "outputs": [],
   "source": [
    "df_selected = df[df['source'].isin(_source)]\n",
    "# df_selected = df"
   ]
  },
  {
   "cell_type": "markdown",
   "metadata": {},
   "source": [
    "Select Testing Set"
   ]
  },
  {
   "cell_type": "code",
   "execution_count": 172,
   "metadata": {},
   "outputs": [
    {
     "data": {
      "text/plain": [
       "array(['2023-04-21_17-03-28'], dtype=object)"
      ]
     },
     "execution_count": 172,
     "metadata": {},
     "output_type": "execute_result"
    }
   ],
   "source": [
    "_start_t = 2   \n",
    "_end_t = 2\n",
    "_test = sources[_start_t:_end_t+1]\n",
    "_test"
   ]
  },
  {
   "cell_type": "code",
   "execution_count": 124,
   "metadata": {},
   "outputs": [],
   "source": [
    "# df_test = pd.read_csv('datasets/Station_Road-2023-12-08_07-53-14/observations.csv',parse_dates=True)"
   ]
  },
  {
   "cell_type": "code",
   "execution_count": 144,
   "metadata": {},
   "outputs": [],
   "source": [
    "df_test = df[df['source'].isin(_source)]"
   ]
  },
  {
   "cell_type": "code",
   "execution_count": 134,
   "metadata": {},
   "outputs": [
    {
     "ename": "NameError",
     "evalue": "name 'df' is not defined",
     "output_type": "error",
     "traceback": [
      "\u001b[1;31m---------------------------------------------------------------------------\u001b[0m",
      "\u001b[1;31mNameError\u001b[0m                                 Traceback (most recent call last)",
      "Cell \u001b[1;32mIn[134], line 2\u001b[0m\n\u001b[0;32m      1\u001b[0m \u001b[38;5;66;03m# Free Memory\u001b[39;00m\n\u001b[1;32m----> 2\u001b[0m \u001b[38;5;28;01mdel\u001b[39;00m df\n",
      "\u001b[1;31mNameError\u001b[0m: name 'df' is not defined"
     ]
    }
   ],
   "source": [
    "# Free Memory\n",
    "del df"
   ]
  },
  {
   "cell_type": "markdown",
   "metadata": {},
   "source": [
    "#### Dataset Description"
   ]
  },
  {
   "cell_type": "code",
   "execution_count": 145,
   "metadata": {},
   "outputs": [
    {
     "name": "stdout",
     "output_type": "stream",
     "text": [
      "Duration: 14112.7  minutes\n"
     ]
    }
   ],
   "source": [
    "df_imu = df_selected[['time','x_acc', 'y_acc', 'z_acc', 'x_gyro', 'y_gyro', 'z_gyro','x_mag', 'y_mag', 'z_mag']]\n",
    "print(\n",
    "    \"Duration:\",\n",
    "    round((df_imu['time'].values[-1] - df_imu['time'].values[0])/6e+10,2),\n",
    "    \" minutes\"\n",
    ")"
   ]
  },
  {
   "cell_type": "code",
   "execution_count": 146,
   "metadata": {},
   "outputs": [],
   "source": [
    "df_gps = df_selected[['time','latitude','longitude','latitude_delta','longitude_delta']]"
   ]
  },
  {
   "cell_type": "code",
   "execution_count": 147,
   "metadata": {},
   "outputs": [
    {
     "name": "stdout",
     "output_type": "stream",
     "text": [
      "IMU Datapoints: (35250, 10)\n",
      "GPS Datapoints: (35250, 5)\n"
     ]
    }
   ],
   "source": [
    "print(\"IMU Datapoints:\",df_imu.shape)\n",
    "print(\"GPS Datapoints:\",df_gps.shape)"
   ]
  },
  {
   "cell_type": "code",
   "execution_count": 148,
   "metadata": {},
   "outputs": [
    {
     "data": {
      "text/plain": [
       "Index(['time', 'x_acc', 'y_acc', 'z_acc', 'x_gyro', 'y_gyro', 'z_gyro',\n",
       "       'x_mag', 'y_mag', 'z_mag', 'longitude', 'latitude', 'longitude_delta',\n",
       "       'latitude_delta', 'source'],\n",
       "      dtype='object')"
      ]
     },
     "execution_count": 148,
     "metadata": {},
     "output_type": "execute_result"
    }
   ],
   "source": [
    "df_selected.columns"
   ]
  },
  {
   "cell_type": "markdown",
   "metadata": {},
   "source": [
    "## Ground Truth"
   ]
  },
  {
   "cell_type": "code",
   "execution_count": 149,
   "metadata": {},
   "outputs": [
    {
     "data": {
      "image/png": "[encoded data removed]",
      "text/plain": [
       "<Figure size 640x480 with 1 Axes>"
      ]
     },
     "metadata": {},
     "output_type": "display_data"
    }
   ],
   "source": [
    "gpsgraph(df_gps)"
   ]
  },
  {
   "cell_type": "markdown",
   "metadata": {},
   "source": [
    "## Determining position change from GPS Coordinates"
   ]
  },
  {
   "cell_type": "code",
   "execution_count": 150,
   "metadata": {},
   "outputs": [],
   "source": [
    "from sklearn.model_selection import train_test_split\n",
    "from sklearn.svm import SVR\n",
    "from sklearn.metrics import mean_squared_error\n",
    "from sklearn.preprocessing import StandardScaler\n",
    "from sklearn.multioutput import MultiOutputRegressor"
   ]
  },
  {
   "cell_type": "code",
   "execution_count": 151,
   "metadata": {},
   "outputs": [],
   "source": [
    "cols_X = ['x_acc', 'y_acc', 'z_acc', 'x_gyro', 'y_gyro', 'z_gyro','x_mag', 'y_mag', 'z_mag']\n",
    "cols_Y = ['latitude_delta','longitude_delta']"
   ]
  },
  {
   "cell_type": "code",
   "execution_count": 152,
   "metadata": {},
   "outputs": [],
   "source": [
    "X = df_imu[cols_X].values\n",
    "y = df_gps[cols_Y].values"
   ]
  },
  {
   "cell_type": "code",
   "execution_count": 153,
   "metadata": {},
   "outputs": [],
   "source": [
    "X_train, X_test, y_train, y_test = train_test_split(X, y, test_size=0.2, random_state=42)"
   ]
  },
  {
   "cell_type": "markdown",
   "metadata": {},
   "source": [
    "DEEP LEARNING"
   ]
  },
  {
   "cell_type": "code",
   "execution_count": 28,
   "metadata": {},
   "outputs": [
    {
     "name": "stdout",
     "output_type": "stream",
     "text": [
      "WARNING:tensorflow:From c:\\Users\\ashle\\AppData\\Local\\Programs\\Python\\Python310\\lib\\site-packages\\keras\\src\\losses.py:2976: The name tf.losses.sparse_softmax_cross_entropy is deprecated. Please use tf.compat.v1.losses.sparse_softmax_cross_entropy instead.\n",
      "\n"
     ]
    }
   ],
   "source": [
    "# from tensorflow.keras.models import Sequential\n",
    "# from tensorflow.keras.layers import LSTM, Dense, BatchNormalization"
   ]
  },
  {
   "cell_type": "code",
   "execution_count": 154,
   "metadata": {},
   "outputs": [],
   "source": [
    "scaler_X = StandardScaler()\n",
    "scaler_y = StandardScaler()\n",
    "X_train_scaled = scaler_X.fit_transform(X_train)\n",
    "y_train_scaled = scaler_y.fit_transform(y_train)"
   ]
  },
  {
   "cell_type": "code",
   "execution_count": 79,
   "metadata": {},
   "outputs": [],
   "source": [
    "# model = Sequential()\n",
    "# model.add(LSTM(64, input_shape=(X.shape[1], X.shape[2]), return_sequences=True))\n",
    "# model.add(LSTM(32))\n",
    "# model.add(Dense(df_gps.shape[1]))  # Output layer\n",
    "# # Compile the model\n",
    "# model.compile(optimizer='adam', loss='mse')\n"
   ]
  },
  {
   "cell_type": "code",
   "execution_count": 155,
   "metadata": {},
   "outputs": [],
   "source": [
    "# Creating and training the MultiOutputRegressor with SVR\n",
    "svr_model = SVR(kernel='rbf', C=100, epsilon=0.1)\n",
    "multioutput_regressor = MultiOutputRegressor(svr_model)\n",
    "multioutput_regressor.fit(X_train_scaled, y_train_scaled)\n",
    "\n",
    "# Making predictions on the test set\n",
    "X_test_scaled = scaler_X.transform(X_test)\n",
    "y_pred_scaled = multioutput_regressor.predict(X_test_scaled)\n",
    "y_pred = scaler_y.inverse_transform(y_pred_scaled)\n",
    "\n",
    "mse1 = mean_squared_error(y_test[:, 0], y_pred[:, 0])\n",
    "mse2 = mean_squared_error(y_test[:, 1], y_pred[:, 1])"
   ]
  },
  {
   "cell_type": "code",
   "execution_count": 157,
   "metadata": {},
   "outputs": [
    {
     "data": {
      "text/plain": [
       "(0.005634893128369886, 0.006073477156247839)"
      ]
     },
     "execution_count": 157,
     "metadata": {},
     "output_type": "execute_result"
    }
   ],
   "source": [
    "# Calculating Mean Squared Error (MSE) for each target\n",
    "\n",
    "mse1,mse2"
   ]
  },
  {
   "cell_type": "code",
   "execution_count": 169,
   "metadata": {},
   "outputs": [],
   "source": [
    "import pickle"
   ]
  },
  {
   "cell_type": "code",
   "execution_count": 171,
   "metadata": {},
   "outputs": [],
   "source": [
    "with open('models/svr_multi.model','wb') as m:\n",
    "    pickle.dump(multioutput_regressor,m)"
   ]
  },
  {
   "cell_type": "markdown",
   "metadata": {},
   "source": [
    "### Model Testing"
   ]
  },
  {
   "cell_type": "code",
   "execution_count": 246,
   "metadata": {},
   "outputs": [
    {
     "data": {
      "text/plain": [
       "array(['2023-06-03_07-09-39'], dtype=object)"
      ]
     },
     "execution_count": 246,
     "metadata": {},
     "output_type": "execute_result"
    }
   ],
   "source": [
    "_start_t = 7\n",
    "_end_t = 7\n",
    "_test = sources[_start_t:_end_t+1]\n",
    "_test"
   ]
  },
  {
   "cell_type": "code",
   "execution_count": 247,
   "metadata": {},
   "outputs": [],
   "source": [
    "df_test = df[df['source'].isin(_test)]"
   ]
  },
  {
   "cell_type": "code",
   "execution_count": 248,
   "metadata": {},
   "outputs": [],
   "source": [
    "df_gps_test = df_test[['time','longitude','latitude']]\n",
    "df_imu_test = df_test[cols_X]"
   ]
  },
  {
   "cell_type": "code",
   "execution_count": 251,
   "metadata": {},
   "outputs": [
    {
     "data": {
      "text/html": [
       "<div>\n",
       "<style scoped>\n",
       "    .dataframe tbody tr th:only-of-type {\n",
       "        vertical-align: middle;\n",
       "    }\n",
       "\n",
       "    .dataframe tbody tr th {\n",
       "        vertical-align: top;\n",
       "    }\n",
       "\n",
       "    .dataframe thead th {\n",
       "        text-align: right;\n",
       "    }\n",
       "</style>\n",
       "<table border=\"1\" class=\"dataframe\">\n",
       "  <thead>\n",
       "    <tr style=\"text-align: right;\">\n",
       "      <th></th>\n",
       "      <th>time</th>\n",
       "      <th>longitude</th>\n",
       "      <th>latitude</th>\n",
       "    </tr>\n",
       "  </thead>\n",
       "  <tbody>\n",
       "    <tr>\n",
       "      <th>2408928</th>\n",
       "      <td>1685776181113697800</td>\n",
       "      <td>-0.544618</td>\n",
       "      <td>51.505044</td>\n",
       "    </tr>\n",
       "    <tr>\n",
       "      <th>2408929</th>\n",
       "      <td>1685776182073704200</td>\n",
       "      <td>-0.544618</td>\n",
       "      <td>51.505044</td>\n",
       "    </tr>\n",
       "    <tr>\n",
       "      <th>2408930</th>\n",
       "      <td>1685776183033705700</td>\n",
       "      <td>-0.544618</td>\n",
       "      <td>51.505044</td>\n",
       "    </tr>\n",
       "    <tr>\n",
       "      <th>2408931</th>\n",
       "      <td>1685776184111298600</td>\n",
       "      <td>-0.544537</td>\n",
       "      <td>51.505277</td>\n",
       "    </tr>\n",
       "    <tr>\n",
       "      <th>2408932</th>\n",
       "      <td>1685776185065363500</td>\n",
       "      <td>-0.544537</td>\n",
       "      <td>51.505277</td>\n",
       "    </tr>\n",
       "    <tr>\n",
       "      <th>...</th>\n",
       "      <td>...</td>\n",
       "      <td>...</td>\n",
       "      <td>...</td>\n",
       "    </tr>\n",
       "    <tr>\n",
       "      <th>2455790</th>\n",
       "      <td>1685791284580769800</td>\n",
       "      <td>-0.544633</td>\n",
       "      <td>51.505383</td>\n",
       "    </tr>\n",
       "    <tr>\n",
       "      <th>2455791</th>\n",
       "      <td>1685791285280067300</td>\n",
       "      <td>-0.544537</td>\n",
       "      <td>51.505277</td>\n",
       "    </tr>\n",
       "    <tr>\n",
       "      <th>2455792</th>\n",
       "      <td>1685791285379459800</td>\n",
       "      <td>-0.544615</td>\n",
       "      <td>51.505040</td>\n",
       "    </tr>\n",
       "    <tr>\n",
       "      <th>2455793</th>\n",
       "      <td>1685791286234232800</td>\n",
       "      <td>-0.544537</td>\n",
       "      <td>51.505277</td>\n",
       "    </tr>\n",
       "    <tr>\n",
       "      <th>2455794</th>\n",
       "      <td>1685791286333625300</td>\n",
       "      <td>-0.544618</td>\n",
       "      <td>51.505044</td>\n",
       "    </tr>\n",
       "  </tbody>\n",
       "</table>\n",
       "<p>46867 rows × 3 columns</p>\n",
       "</div>"
      ],
      "text/plain": [
       "                        time  longitude   latitude\n",
       "2408928  1685776181113697800  -0.544618  51.505044\n",
       "2408929  1685776182073704200  -0.544618  51.505044\n",
       "2408930  1685776183033705700  -0.544618  51.505044\n",
       "2408931  1685776184111298600  -0.544537  51.505277\n",
       "2408932  1685776185065363500  -0.544537  51.505277\n",
       "...                      ...        ...        ...\n",
       "2455790  1685791284580769800  -0.544633  51.505383\n",
       "2455791  1685791285280067300  -0.544537  51.505277\n",
       "2455792  1685791285379459800  -0.544615  51.505040\n",
       "2455793  1685791286234232800  -0.544537  51.505277\n",
       "2455794  1685791286333625300  -0.544618  51.505044\n",
       "\n",
       "[46867 rows x 3 columns]"
      ]
     },
     "execution_count": 251,
     "metadata": {},
     "output_type": "execute_result"
    }
   ],
   "source": [
    "df_gps_test"
   ]
  },
  {
   "cell_type": "code",
   "execution_count": 249,
   "metadata": {},
   "outputs": [
    {
     "name": "stdout",
     "output_type": "stream",
     "text": [
      "IMU Datapoints: (46867, 9)\n",
      "GPS Datapoints: (46867, 3)\n"
     ]
    }
   ],
   "source": [
    "print(\"IMU Datapoints:\",df_imu_test.shape)\n",
    "print(\"GPS Datapoints:\",df_gps_test.shape)"
   ]
  },
  {
   "cell_type": "code",
   "execution_count": 250,
   "metadata": {},
   "outputs": [
    {
     "data": {
      "image/png": "[encoded data removed]",
      "text/plain": [
       "<Figure size 640x480 with 1 Axes>"
      ]
     },
     "metadata": {},
     "output_type": "display_data"
    }
   ],
   "source": [
    "gpsgraph(df_gps_test)"
   ]
  },
  {
   "cell_type": "code",
   "execution_count": 252,
   "metadata": {},
   "outputs": [],
   "source": [
    "X_input = df_test[cols_X].values"
   ]
  },
  {
   "cell_type": "code",
   "execution_count": 253,
   "metadata": {},
   "outputs": [],
   "source": [
    "X_input_scaled = scaler_X.transform(X_input)"
   ]
  },
  {
   "cell_type": "code",
   "execution_count": 254,
   "metadata": {},
   "outputs": [],
   "source": [
    "preds = multioutput_regressor.predict(X_input_scaled)"
   ]
  },
  {
   "cell_type": "code",
   "execution_count": 255,
   "metadata": {},
   "outputs": [],
   "source": [
    "df_pred = pd.DataFrame()\n",
    "df_pred['longitude_change'] = preds[:,0]\n",
    "df_pred['latitude_change'] = preds[:,1]\n",
    "\n",
    "df_pred['longitudes'] = np.cumsum(df_pred['longitude_change'].values)\n",
    "df_pred['latitudes'] = np.cumsum(df_pred['latitude_change'].values)"
   ]
  },
  {
   "cell_type": "code",
   "execution_count": 256,
   "metadata": {},
   "outputs": [
    {
     "data": {
      "image/png": "[encoded data removed]",
      "text/plain": [
       "<Figure size 640x480 with 1 Axes>"
      ]
     },
     "metadata": {},
     "output_type": "display_data"
    }
   ],
   "source": [
    "plt.plot(df_pred['longitudes'],df_pred['latitudes'], color='red', linewidth=3, label='Regression Line')\n",
    "plt.xlabel('X')\n",
    "plt.ylabel('y')\n",
    "plt.title('Linear Regression Example')\n",
    "plt.legend()\n",
    "plt.show()"
   ]
  },
  {
   "cell_type": "code",
   "execution_count": null,
   "metadata": {},
   "outputs": [],
   "source": []
  }
 ],
 "metadata": {
  "kernelspec": {
   "display_name": "Python 3",
   "language": "python",
   "name": "python3"
  },
  "language_info": {
   "codemirror_mode": {
    "name": "ipython",
    "version": 3
   },
   "file_extension": ".py",
   "mimetype": "text/x-python",
   "name": "python",
   "nbconvert_exporter": "python",
   "pygments_lexer": "ipython3",
   "version": "3.10.10"
  }
 },
 "nbformat": 4,
 "nbformat_minor": 2
}
